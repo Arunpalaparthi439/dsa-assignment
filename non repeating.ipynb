{
 "cells": [
  {
   "cell_type": "code",
   "execution_count": 1,
   "id": "341c4f6a",
   "metadata": {},
   "outputs": [
    {
     "name": "stdout",
     "output_type": "stream",
     "text": [
      "First non-repeating character is f\n"
     ]
    }
   ],
   "source": [
    "\n",
    "NO_OF_CHARS = 256\n",
    "def getCharCountArray(string):\n",
    "    count = [0] * NO_OF_CHARS\n",
    "    for i in string:\n",
    "        count[ord(i)]+= 1\n",
    "    return count\n",
    "def firstNonRepeating(string):\n",
    "    count = getCharCountArray(string)\n",
    "    index = -1\n",
    "    k = 0\n",
    " \n",
    "    for i in string:\n",
    "        if count[ord(i)] == 1:\n",
    "            index = k\n",
    "            break\n",
    "        k += 1\n",
    " \n",
    "    return index\n",
    "string = \"geeksforgeeks\"\n",
    "index = firstNonRepeating(string)\n",
    "if index == 1:\n",
    "    print (\"Either all characters are repeating or string is empty\")\n",
    "else:\n",
    "    print (\"First non-repeating character is\" , string[index])"
   ]
  },
  {
   "cell_type": "code",
   "execution_count": null,
   "id": "5b520b25",
   "metadata": {},
   "outputs": [],
   "source": []
  }
 ],
 "metadata": {
  "kernelspec": {
   "display_name": "Python 3 (ipykernel)",
   "language": "python",
   "name": "python3"
  },
  "language_info": {
   "codemirror_mode": {
    "name": "ipython",
    "version": 3
   },
   "file_extension": ".py",
   "mimetype": "text/x-python",
   "name": "python",
   "nbconvert_exporter": "python",
   "pygments_lexer": "ipython3",
   "version": "3.9.12"
  }
 },
 "nbformat": 4,
 "nbformat_minor": 5
}
